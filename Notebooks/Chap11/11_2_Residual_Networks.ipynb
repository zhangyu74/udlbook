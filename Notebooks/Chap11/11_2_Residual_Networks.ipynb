{
 "cells": [
  {
   "cell_type": "markdown",
   "metadata": {
    "colab_type": "text",
    "id": "view-in-github"
   },
   "source": [
    "<a href=\"https://colab.research.google.com/github/udlbook/udlbook/blob/main/Notebooks/Chap11/11_2_Residual_Networks.ipynb\" target=\"_parent\"><img src=\"https://colab.research.google.com/assets/colab-badge.svg\" alt=\"Open In Colab\"/></a>"
   ]
  },
  {
   "cell_type": "markdown",
   "metadata": {
    "id": "t9vk9Elugvmi"
   },
   "source": [
    "# **Notebook 11.2: Residual Networks**\n",
    "\n",
    "This notebook adapts the networks for MNIST1D to use residual connections.\n",
    "\n",
    "Work through the cells below, running each cell in turn. In various places you will see the words \"TO DO\". Follow the instructions at these places and make predictions about what is going to happen or write code to complete the functions.\n",
    "\n",
    "Contact me at udlbookmail@gmail.com if you find any mistakes or have any suggestions.\n",
    "\n"
   ]
  },
  {
   "cell_type": "code",
   "execution_count": 3,
   "metadata": {
    "id": "D5yLObtZCi9J"
   },
   "outputs": [],
   "source": [
    "# Run this if you're in a Colab to install MNIST 1D repository\n",
    "#!pip install git+https://github.com/greydanus/mnist1d"
   ]
  },
  {
   "cell_type": "code",
   "execution_count": 4,
   "metadata": {
    "id": "YrXWAH7sUWvU"
   },
   "outputs": [],
   "source": [
    "import numpy as np\n",
    "import os\n",
    "import torch, torch.nn as nn\n",
    "from torch.utils.data import TensorDataset, DataLoader\n",
    "from torch.optim.lr_scheduler import StepLR\n",
    "import matplotlib.pyplot as plt\n",
    "import mnist1d\n",
    "import random"
   ]
  },
  {
   "cell_type": "code",
   "execution_count": 5,
   "metadata": {
    "id": "twI72ZCrCt5z"
   },
   "outputs": [
    {
     "name": "stdout",
     "output_type": "stream",
     "text": [
      "Successfully loaded data from ./mnist1d_data.pkl\n",
      "Examples in training set: 4000\n",
      "Examples in test set: 1000\n",
      "Length of each example: 40\n"
     ]
    }
   ],
   "source": [
    "args = mnist1d.data.get_dataset_args()\n",
    "data = mnist1d.data.get_dataset(args, path='./mnist1d_data.pkl', download=False, regenerate=False)\n",
    "\n",
    "# The training and test input and outputs are in\n",
    "# data['x'], data['y'], data['x_test'], and data['y_test']\n",
    "print(\"Examples in training set: {}\".format(len(data['y'])))\n",
    "print(\"Examples in test set: {}\".format(len(data['y_test'])))\n",
    "print(\"Length of each example: {}\".format(data['x'].shape[-1]))"
   ]
  },
  {
   "cell_type": "code",
   "execution_count": 6,
   "metadata": {
    "id": "8bKADvLHbiV5"
   },
   "outputs": [
    {
     "name": "stdout",
     "output_type": "stream",
     "text": [
      "Train data: 4000 examples (columns), each of which has 40 dimensions (rows)\n",
      "Validation data: 1000 examples (columns), each of which has 40 dimensions (rows)\n"
     ]
    }
   ],
   "source": [
    "# Load in the data\n",
    "train_data_x = data['x'].transpose()\n",
    "train_data_y = data['y']\n",
    "val_data_x = data['x_test'].transpose()\n",
    "val_data_y = data['y_test']\n",
    "# Print out sizes\n",
    "print(\"Train data: %d examples (columns), each of which has %d dimensions (rows)\"%((train_data_x.shape[1],train_data_x.shape[0])))\n",
    "print(\"Validation data: %d examples (columns), each of which has %d dimensions (rows)\"%((val_data_x.shape[1],val_data_x.shape[0])))"
   ]
  },
  {
   "cell_type": "markdown",
   "metadata": {
    "id": "_sFvRDGrl4qe"
   },
   "source": [
    "Define the network"
   ]
  },
  {
   "cell_type": "code",
   "execution_count": 8,
   "metadata": {
    "id": "FslroPJJffrh"
   },
   "outputs": [],
   "source": [
    "# There are 40 input dimensions and 10 output dimensions for this data\n",
    "# The inputs correspond to the 40 offsets in the MNIST1D template.\n",
    "D_i = 40\n",
    "# The outputs correspond to the 10 digits\n",
    "D_o = 10\n",
    "\n",
    "\n",
    "# We will adapt this model to have residual connections around the linear layers\n",
    "# This is the same model we used in practical 8.1, but we can't use the sequential\n",
    "# class for residual networks (which aren't strictly sequential).  Hence, I've rewritten\n",
    "# it as a model that inherits from a base class\n",
    "\n",
    "class ResidualNetwork(torch.nn.Module):\n",
    "  def __init__(self, input_size, output_size, hidden_size=100):\n",
    "    super(ResidualNetwork, self).__init__()\n",
    "    self.linear1 = nn.Linear(input_size, hidden_size)\n",
    "    self.linear2 = nn.Linear(hidden_size, hidden_size)\n",
    "    self.linear3 = nn.Linear(hidden_size, hidden_size)\n",
    "    self.linear4 = nn.Linear(hidden_size, output_size)\n",
    "    print(\"Initialized MLPBase model with {} parameters\".format(self.count_params()))\n",
    "\n",
    "  def count_params(self):\n",
    "    return sum([p.view(-1).shape[0] for p in self.parameters()])\n",
    "\n",
    "# TODO -- Add residual connections to this model\n",
    "# The order of operations within each block should similar to figure 11.5b\n",
    "# ie., linear1 first, ReLU+linear2 in first residual block, ReLU+linear3 in second residual block), linear4 at end\n",
    "# Replace this function\n",
    "  def forward(self, x):\n",
    "    #h1 = self.linear1(x).relu()\n",
    "    #h2 = self.linear2(h1).relu()\n",
    "    #h3 = self.linear3(h2).relu()\n",
    "    #return self.linear4(h3)\n",
    "\n",
    "    f = self.linear1(x)\n",
    "    res1 = f + self.linear2(f.relu())\n",
    "    res2 = res1 + self.linear3(res1.relu())\n",
    "    return self.linear4(res2)"
   ]
  },
  {
   "cell_type": "code",
   "execution_count": 9,
   "metadata": {
    "id": "YgLaex1pfhqz"
   },
   "outputs": [],
   "source": [
    "# He initialization of weights\n",
    "def weights_init(layer_in):\n",
    "  if isinstance(layer_in, nn.Linear):\n",
    "    nn.init.kaiming_uniform_(layer_in.weight)\n",
    "    layer_in.bias.data.fill_(0.0)"
   ]
  },
  {
   "cell_type": "code",
   "execution_count": 10,
   "metadata": {
    "id": "NYw8I_3mmX5c"
   },
   "outputs": [
    {
     "name": "stdout",
     "output_type": "stream",
     "text": [
      "Initialized MLPBase model with 25310 parameters\n",
      "Epoch     0, train loss 1.625443, train error 59.92,  val loss 1.783672, percent error 65.60\n",
      "Epoch     1, train loss 1.142272, train error 44.45,  val loss 1.339992, percent error 51.60\n",
      "Epoch     2, train loss 0.953093, train error 35.95,  val loss 1.155121, percent error 45.00\n",
      "Epoch     3, train loss 0.893446, train error 34.35,  val loss 1.211616, percent error 43.50\n",
      "Epoch     4, train loss 0.791451, train error 30.25,  val loss 1.158787, percent error 42.80\n",
      "Epoch     5, train loss 0.754418, train error 28.55,  val loss 1.198115, percent error 43.60\n",
      "Epoch     6, train loss 0.700386, train error 26.20,  val loss 1.174689, percent error 43.10\n",
      "Epoch     7, train loss 0.640159, train error 23.50,  val loss 1.188353, percent error 41.00\n",
      "Epoch     8, train loss 0.697354, train error 26.40,  val loss 1.405514, percent error 44.20\n",
      "Epoch     9, train loss 0.545411, train error 20.35,  val loss 1.234439, percent error 37.40\n",
      "Epoch    10, train loss 0.466003, train error 18.03,  val loss 1.298684, percent error 41.40\n",
      "Epoch    11, train loss 0.482036, train error 18.65,  val loss 1.312591, percent error 39.30\n",
      "Epoch    12, train loss 0.528703, train error 19.18,  val loss 1.387026, percent error 39.50\n",
      "Epoch    13, train loss 0.524137, train error 18.40,  val loss 1.440271, percent error 39.70\n",
      "Epoch    14, train loss 0.357849, train error 13.38,  val loss 1.367010, percent error 38.80\n",
      "Epoch    15, train loss 0.351201, train error 13.25,  val loss 1.360617, percent error 36.80\n",
      "Epoch    16, train loss 0.393814, train error 14.20,  val loss 1.449242, percent error 38.60\n",
      "Epoch    17, train loss 0.299282, train error 11.10,  val loss 1.390254, percent error 35.80\n",
      "Epoch    18, train loss 0.208607, train error 7.32,  val loss 1.424082, percent error 35.20\n",
      "Epoch    19, train loss 0.235720, train error 7.88,  val loss 1.615919, percent error 38.30\n",
      "Epoch    20, train loss 0.070523, train error 1.93,  val loss 1.362314, percent error 33.40\n",
      "Epoch    21, train loss 0.034186, train error 0.35,  val loss 1.346243, percent error 32.70\n",
      "Epoch    22, train loss 0.020793, train error 0.07,  val loss 1.379138, percent error 32.50\n",
      "Epoch    23, train loss 0.014711, train error 0.05,  val loss 1.406200, percent error 32.50\n",
      "Epoch    24, train loss 0.011610, train error 0.03,  val loss 1.444376, percent error 32.80\n",
      "Epoch    25, train loss 0.009628, train error 0.00,  val loss 1.462135, percent error 32.70\n",
      "Epoch    26, train loss 0.008347, train error 0.00,  val loss 1.492433, percent error 33.30\n",
      "Epoch    27, train loss 0.007465, train error 0.00,  val loss 1.510095, percent error 33.60\n",
      "Epoch    28, train loss 0.006786, train error 0.00,  val loss 1.534129, percent error 33.40\n",
      "Epoch    29, train loss 0.006098, train error 0.00,  val loss 1.552278, percent error 33.30\n",
      "Epoch    30, train loss 0.005616, train error 0.00,  val loss 1.567059, percent error 33.40\n",
      "Epoch    31, train loss 0.005188, train error 0.00,  val loss 1.583848, percent error 32.80\n",
      "Epoch    32, train loss 0.004804, train error 0.00,  val loss 1.601562, percent error 33.30\n",
      "Epoch    33, train loss 0.004489, train error 0.00,  val loss 1.617038, percent error 33.00\n",
      "Epoch    34, train loss 0.004211, train error 0.00,  val loss 1.627865, percent error 32.70\n",
      "Epoch    35, train loss 0.003975, train error 0.00,  val loss 1.641907, percent error 33.10\n",
      "Epoch    36, train loss 0.003750, train error 0.00,  val loss 1.654071, percent error 33.00\n",
      "Epoch    37, train loss 0.003547, train error 0.00,  val loss 1.667400, percent error 32.90\n",
      "Epoch    38, train loss 0.003370, train error 0.00,  val loss 1.675649, percent error 32.80\n",
      "Epoch    39, train loss 0.003209, train error 0.00,  val loss 1.687256, percent error 32.90\n",
      "Epoch    40, train loss 0.003131, train error 0.00,  val loss 1.692129, percent error 32.90\n",
      "Epoch    41, train loss 0.003059, train error 0.00,  val loss 1.697745, percent error 33.10\n",
      "Epoch    42, train loss 0.002993, train error 0.00,  val loss 1.702134, percent error 32.90\n",
      "Epoch    43, train loss 0.002929, train error 0.00,  val loss 1.706221, percent error 32.90\n",
      "Epoch    44, train loss 0.002866, train error 0.00,  val loss 1.711448, percent error 32.90\n",
      "Epoch    45, train loss 0.002808, train error 0.00,  val loss 1.715625, percent error 32.80\n",
      "Epoch    46, train loss 0.002750, train error 0.00,  val loss 1.719823, percent error 32.80\n",
      "Epoch    47, train loss 0.002695, train error 0.00,  val loss 1.724123, percent error 32.90\n",
      "Epoch    48, train loss 0.002643, train error 0.00,  val loss 1.728463, percent error 32.90\n",
      "Epoch    49, train loss 0.002592, train error 0.00,  val loss 1.733213, percent error 32.90\n",
      "Epoch    50, train loss 0.002543, train error 0.00,  val loss 1.737542, percent error 32.90\n",
      "Epoch    51, train loss 0.002496, train error 0.00,  val loss 1.741367, percent error 32.90\n",
      "Epoch    52, train loss 0.002450, train error 0.00,  val loss 1.745622, percent error 32.90\n",
      "Epoch    53, train loss 0.002406, train error 0.00,  val loss 1.749468, percent error 32.90\n",
      "Epoch    54, train loss 0.002363, train error 0.00,  val loss 1.753628, percent error 33.00\n",
      "Epoch    55, train loss 0.002323, train error 0.00,  val loss 1.757005, percent error 33.00\n",
      "Epoch    56, train loss 0.002283, train error 0.00,  val loss 1.761119, percent error 32.90\n",
      "Epoch    57, train loss 0.002244, train error 0.00,  val loss 1.764636, percent error 32.80\n",
      "Epoch    58, train loss 0.002206, train error 0.00,  val loss 1.769014, percent error 32.90\n",
      "Epoch    59, train loss 0.002171, train error 0.00,  val loss 1.771970, percent error 32.90\n",
      "Epoch    60, train loss 0.002152, train error 0.00,  val loss 1.773893, percent error 32.80\n",
      "Epoch    61, train loss 0.002135, train error 0.00,  val loss 1.776024, percent error 33.00\n",
      "Epoch    62, train loss 0.002118, train error 0.00,  val loss 1.777266, percent error 33.00\n",
      "Epoch    63, train loss 0.002101, train error 0.00,  val loss 1.779463, percent error 32.90\n",
      "Epoch    64, train loss 0.002085, train error 0.00,  val loss 1.780976, percent error 32.90\n",
      "Epoch    65, train loss 0.002068, train error 0.00,  val loss 1.782749, percent error 32.80\n",
      "Epoch    66, train loss 0.002053, train error 0.00,  val loss 1.784368, percent error 32.80\n",
      "Epoch    67, train loss 0.002037, train error 0.00,  val loss 1.786210, percent error 32.90\n",
      "Epoch    68, train loss 0.002021, train error 0.00,  val loss 1.787593, percent error 32.90\n",
      "Epoch    69, train loss 0.002006, train error 0.00,  val loss 1.789343, percent error 33.00\n",
      "Epoch    70, train loss 0.001991, train error 0.00,  val loss 1.791258, percent error 32.90\n",
      "Epoch    71, train loss 0.001976, train error 0.00,  val loss 1.792944, percent error 32.90\n",
      "Epoch    72, train loss 0.001961, train error 0.00,  val loss 1.794666, percent error 33.00\n",
      "Epoch    73, train loss 0.001947, train error 0.00,  val loss 1.795914, percent error 32.90\n",
      "Epoch    74, train loss 0.001932, train error 0.00,  val loss 1.797851, percent error 32.90\n",
      "Epoch    75, train loss 0.001918, train error 0.00,  val loss 1.799360, percent error 32.80\n",
      "Epoch    76, train loss 0.001904, train error 0.00,  val loss 1.800793, percent error 32.80\n",
      "Epoch    77, train loss 0.001891, train error 0.00,  val loss 1.802824, percent error 32.90\n",
      "Epoch    78, train loss 0.001877, train error 0.00,  val loss 1.804018, percent error 32.80\n",
      "Epoch    79, train loss 0.001864, train error 0.00,  val loss 1.805513, percent error 32.80\n",
      "Epoch    80, train loss 0.001857, train error 0.00,  val loss 1.806438, percent error 32.80\n",
      "Epoch    81, train loss 0.001851, train error 0.00,  val loss 1.807305, percent error 32.80\n",
      "Epoch    82, train loss 0.001844, train error 0.00,  val loss 1.807880, percent error 32.80\n",
      "Epoch    83, train loss 0.001838, train error 0.00,  val loss 1.808774, percent error 32.80\n",
      "Epoch    84, train loss 0.001831, train error 0.00,  val loss 1.809545, percent error 32.80\n",
      "Epoch    85, train loss 0.001825, train error 0.00,  val loss 1.810270, percent error 32.80\n",
      "Epoch    86, train loss 0.001819, train error 0.00,  val loss 1.811147, percent error 32.80\n",
      "Epoch    87, train loss 0.001812, train error 0.00,  val loss 1.811670, percent error 32.80\n",
      "Epoch    88, train loss 0.001806, train error 0.00,  val loss 1.812515, percent error 32.80\n",
      "Epoch    89, train loss 0.001800, train error 0.00,  val loss 1.813386, percent error 32.70\n",
      "Epoch    90, train loss 0.001794, train error 0.00,  val loss 1.814048, percent error 32.80\n",
      "Epoch    91, train loss 0.001788, train error 0.00,  val loss 1.814939, percent error 32.90\n",
      "Epoch    92, train loss 0.001782, train error 0.00,  val loss 1.815626, percent error 32.80\n",
      "Epoch    93, train loss 0.001776, train error 0.00,  val loss 1.816566, percent error 32.80\n",
      "Epoch    94, train loss 0.001770, train error 0.00,  val loss 1.817063, percent error 32.80\n",
      "Epoch    95, train loss 0.001764, train error 0.00,  val loss 1.818008, percent error 32.80\n",
      "Epoch    96, train loss 0.001758, train error 0.00,  val loss 1.818771, percent error 32.80\n",
      "Epoch    97, train loss 0.001752, train error 0.00,  val loss 1.819345, percent error 32.80\n",
      "Epoch    98, train loss 0.001746, train error 0.00,  val loss 1.820128, percent error 32.80\n",
      "Epoch    99, train loss 0.001740, train error 0.00,  val loss 1.820841, percent error 32.80\n"
     ]
    }
   ],
   "source": [
    "#Define the model\n",
    "model = ResidualNetwork(40, 10)\n",
    "\n",
    "# choose cross entropy loss function (equation 5.24 in the loss notes)\n",
    "loss_function = nn.CrossEntropyLoss()\n",
    "# construct SGD optimizer and initialize learning rate and momentum\n",
    "optimizer = torch.optim.SGD(model.parameters(), lr = 0.05, momentum=0.9)\n",
    "# object that decreases learning rate by half every 20 epochs\n",
    "scheduler = StepLR(optimizer, step_size=20, gamma=0.5)\n",
    "# convert data to torch tensors\n",
    "x_train = torch.tensor(train_data_x.transpose().astype('float32'))\n",
    "#y_train = torch.tensor(train_data_y.astype('long'))\n",
    "y_train = torch.tensor(train_data_y, dtype=torch.long)\n",
    "x_val= torch.tensor(val_data_x.transpose().astype('float32'))\n",
    "#y_val = torch.tensor(val_data_y.astype('long'))\n",
    "y_val = torch.tensor(val_data_y, dtype=torch.long)\n",
    "\n",
    "# load the data into a class that creates the batches\n",
    "data_loader = DataLoader(TensorDataset(x_train,y_train), batch_size=100, shuffle=True, worker_init_fn=np.random.seed(1))\n",
    "\n",
    "# Initialize model weights\n",
    "model.apply(weights_init)\n",
    "\n",
    "# loop over the dataset n_epoch times\n",
    "n_epoch = 100\n",
    "# store the loss and the % correct at each epoch\n",
    "losses_train = np.zeros((n_epoch))\n",
    "errors_train = np.zeros((n_epoch))\n",
    "losses_val = np.zeros((n_epoch))\n",
    "errors_val = np.zeros((n_epoch))\n",
    "\n",
    "for epoch in range(n_epoch):\n",
    "  # loop over batches\n",
    "  for i, data in enumerate(data_loader):\n",
    "    # retrieve inputs and labels for this batch\n",
    "    x_batch, y_batch = data\n",
    "    # zero the parameter gradients\n",
    "    optimizer.zero_grad()\n",
    "    # forward pass -- calculate model output\n",
    "    pred = model(x_batch)\n",
    "    # compute the loss\n",
    "    loss = loss_function(pred, y_batch)\n",
    "    # backward pass\n",
    "    loss.backward()\n",
    "    # SGD update\n",
    "    optimizer.step()\n",
    "\n",
    "  # Run whole dataset to get statistics -- normally wouldn't do this\n",
    "  pred_train = model(x_train)\n",
    "  pred_val = model(x_val)\n",
    "  _, predicted_train_class = torch.max(pred_train.data, 1)\n",
    "  _, predicted_val_class = torch.max(pred_val.data, 1)\n",
    "  errors_train[epoch] = 100 - 100 * (predicted_train_class == y_train).float().sum() / len(y_train)\n",
    "  errors_val[epoch]= 100 - 100 * (predicted_val_class == y_val).float().sum() / len(y_val)\n",
    "  losses_train[epoch] = loss_function(pred_train, y_train).item()\n",
    "  losses_val[epoch]= loss_function(pred_val, y_val).item()\n",
    "  print(f'Epoch {epoch:5d}, train loss {losses_train[epoch]:.6f}, train error {errors_train[epoch]:3.2f},  val loss {losses_val[epoch]:.6f}, percent error {errors_val[epoch]:3.2f}')\n",
    "\n",
    "  # tell scheduler to consider updating learning rate\n",
    "  scheduler.step()"
   ]
  },
  {
   "cell_type": "code",
   "execution_count": 11,
   "metadata": {
    "id": "CcP_VyEmE2sv"
   },
   "outputs": [
    {
     "data": {
      "image/png": "[encoded data removed]",
      "text/plain": [
       "<Figure size 640x480 with 1 Axes>"
      ]
     },
     "metadata": {},
     "output_type": "display_data"
    }
   ],
   "source": [
    "# Plot the results\n",
    "fig, ax = plt.subplots()\n",
    "ax.plot(errors_train,'r-',label='train')\n",
    "ax.plot(errors_val,'b-',label='test')\n",
    "ax.set_ylim(0,100); ax.set_xlim(0,n_epoch)\n",
    "ax.set_xlabel('Epoch'); ax.set_ylabel('Error')\n",
    "ax.set_title('TrainError %3.2f, Val Error %3.2f'%(errors_train[-1],errors_val[-1]))\n",
    "ax.legend()\n",
    "plt.show()"
   ]
  },
  {
   "cell_type": "markdown",
   "metadata": {
    "id": "wMmqhmxuAx0M"
   },
   "source": [
    "The primary motivation of residual networks is to allow training of much deeper networks.   \n",
    "\n",
    "TODO: Try running this network with and without the residual connections.  Does adding the residual connections change the performance?"
   ]
  }
 ],
 "metadata": {
  "colab": {
   "authorship_tag": "ABX9TyNIY8tswL9e48d5D53aSmHO",
   "include_colab_link": true,
   "provenance": []
  },
  "kernelspec": {
   "display_name": "Python [conda env:pytorch]",
   "language": "python",
   "name": "conda-env-pytorch-py"
  },
  "language_info": {
   "codemirror_mode": {
    "name": "ipython",
    "version": 3
   },
   "file_extension": ".py",
   "mimetype": "text/x-python",
   "name": "python",
   "nbconvert_exporter": "python",
   "pygments_lexer": "ipython3",
   "version": "3.12.7"
  }
 },
 "nbformat": 4,
 "nbformat_minor": 4
}
