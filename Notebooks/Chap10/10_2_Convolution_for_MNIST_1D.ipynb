{
 "cells": [
  {
   "cell_type": "markdown",
   "metadata": {
    "colab_type": "text",
    "id": "view-in-github"
   },
   "source": [
    "<a href=\"https://colab.research.google.com/github/udlbook/udlbook/blob/main/Notebooks/Chap10/10_2_Convolution_for_MNIST_1D.ipynb\" target=\"_parent\"><img src=\"https://colab.research.google.com/assets/colab-badge.svg\" alt=\"Open In Colab\"/></a>"
   ]
  },
  {
   "cell_type": "markdown",
   "metadata": {
    "id": "t9vk9Elugvmi"
   },
   "source": [
    "# **Notebook 10.2: Convolution for MNIST-1D**\n",
    "\n",
    "This notebook investigates a 1D convolutional network for MNIST-1D as in figure 10.7 and 10.8a.\n",
    "\n",
    "Work through the cells below, running each cell in turn. In various places you will see the words \"TO DO\". Follow the instructions at these places and make predictions about what is going to happen or write code to complete the functions.\n",
    "\n",
    "Contact me at udlbookmail@gmail.com if you find any mistakes or have any suggestions.\n",
    "\n"
   ]
  },
  {
   "cell_type": "code",
   "execution_count": 13,
   "metadata": {
    "id": "D5yLObtZCi9J"
   },
   "outputs": [
    {
     "name": "stdout",
     "output_type": "stream",
     "text": [
      "Collecting git+https://github.com/greydanus/mnist1d\n",
      "  Cloning https://github.com/greydanus/mnist1d to c:\\users\\jaza7\\appdata\\local\\temp\\pip-req-build-m9u9sgah\n",
      "  Resolved https://github.com/greydanus/mnist1d to commit 7878d96082abd200c546a07a4101fa90b30fdf7e\n",
      "  Installing build dependencies: started\n",
      "  Installing build dependencies: finished with status 'done'\n",
      "  Getting requirements to build wheel: started\n",
      "  Getting requirements to build wheel: finished with status 'done'\n",
      "  Preparing metadata (pyproject.toml): started\n",
      "  Preparing metadata (pyproject.toml): finished with status 'done'\n",
      "Requirement already satisfied: requests in c:\\users\\jaza7\\anaconda3\\envs\\pytorch\\lib\\site-packages (from mnist1d==0.0.2.post16) (2.32.3)\n",
      "Requirement already satisfied: numpy in c:\\users\\jaza7\\anaconda3\\envs\\pytorch\\lib\\site-packages (from mnist1d==0.0.2.post16) (1.26.4)\n",
      "Requirement already satisfied: matplotlib in c:\\users\\jaza7\\anaconda3\\envs\\pytorch\\lib\\site-packages (from mnist1d==0.0.2.post16) (3.9.2)\n",
      "Requirement already satisfied: scipy in c:\\users\\jaza7\\anaconda3\\envs\\pytorch\\lib\\site-packages (from mnist1d==0.0.2.post16) (1.13.1)\n",
      "Requirement already satisfied: contourpy>=1.0.1 in c:\\users\\jaza7\\anaconda3\\envs\\pytorch\\lib\\site-packages (from matplotlib->mnist1d==0.0.2.post16) (1.2.0)\n",
      "Requirement already satisfied: cycler>=0.10 in c:\\users\\jaza7\\anaconda3\\envs\\pytorch\\lib\\site-packages (from matplotlib->mnist1d==0.0.2.post16) (0.11.0)\n",
      "Requirement already satisfied: fonttools>=4.22.0 in c:\\users\\jaza7\\anaconda3\\envs\\pytorch\\lib\\site-packages (from matplotlib->mnist1d==0.0.2.post16) (4.51.0)\n",
      "Requirement already satisfied: kiwisolver>=1.3.1 in c:\\users\\jaza7\\anaconda3\\envs\\pytorch\\lib\\site-packages (from matplotlib->mnist1d==0.0.2.post16) (1.4.4)\n",
      "Requirement already satisfied: packaging>=20.0 in c:\\users\\jaza7\\anaconda3\\envs\\pytorch\\lib\\site-packages (from matplotlib->mnist1d==0.0.2.post16) (24.1)\n",
      "Requirement already satisfied: pillow>=8 in c:\\users\\jaza7\\anaconda3\\envs\\pytorch\\lib\\site-packages (from matplotlib->mnist1d==0.0.2.post16) (10.4.0)\n",
      "Requirement already satisfied: pyparsing>=2.3.1 in c:\\users\\jaza7\\anaconda3\\envs\\pytorch\\lib\\site-packages (from matplotlib->mnist1d==0.0.2.post16) (3.1.2)\n",
      "Requirement already satisfied: python-dateutil>=2.7 in c:\\users\\jaza7\\anaconda3\\envs\\pytorch\\lib\\site-packages (from matplotlib->mnist1d==0.0.2.post16) (2.9.0.post0)\n",
      "Requirement already satisfied: charset-normalizer<4,>=2 in c:\\users\\jaza7\\anaconda3\\envs\\pytorch\\lib\\site-packages (from requests->mnist1d==0.0.2.post16) (3.3.2)\n",
      "Requirement already satisfied: idna<4,>=2.5 in c:\\users\\jaza7\\anaconda3\\envs\\pytorch\\lib\\site-packages (from requests->mnist1d==0.0.2.post16) (3.7)\n",
      "Requirement already satisfied: urllib3<3,>=1.21.1 in c:\\users\\jaza7\\anaconda3\\envs\\pytorch\\lib\\site-packages (from requests->mnist1d==0.0.2.post16) (2.2.3)\n",
      "Requirement already satisfied: certifi>=2017.4.17 in c:\\users\\jaza7\\anaconda3\\envs\\pytorch\\lib\\site-packages (from requests->mnist1d==0.0.2.post16) (2024.12.14)\n",
      "Requirement already satisfied: six>=1.5 in c:\\users\\jaza7\\anaconda3\\envs\\pytorch\\lib\\site-packages (from python-dateutil>=2.7->matplotlib->mnist1d==0.0.2.post16) (1.16.0)\n"
     ]
    },
    {
     "name": "stderr",
     "output_type": "stream",
     "text": [
      "  Running command git clone --filter=blob:none --quiet https://github.com/greydanus/mnist1d 'C:\\Users\\jaza7\\AppData\\Local\\Temp\\pip-req-build-m9u9sgah'\n"
     ]
    }
   ],
   "source": [
    "# Run this if you're in a Colab to install MNIST 1D repository\n",
    "!pip install git+https://github.com/greydanus/mnist1d"
   ]
  },
  {
   "cell_type": "code",
   "execution_count": 14,
   "metadata": {
    "id": "YrXWAH7sUWvU"
   },
   "outputs": [],
   "source": [
    "import numpy as np\n",
    "import os\n",
    "import torch, torch.nn as nn\n",
    "from torch.utils.data import TensorDataset, DataLoader\n",
    "from torch.optim.lr_scheduler import StepLR\n",
    "import matplotlib.pyplot as plt\n",
    "import mnist1d\n",
    "import random"
   ]
  },
  {
   "cell_type": "code",
   "execution_count": 15,
   "metadata": {
    "id": "twI72ZCrCt5z"
   },
   "outputs": [
    {
     "name": "stdout",
     "output_type": "stream",
     "text": [
      "Successfully loaded data from ./mnist1d_data.pkl\n",
      "Examples in training set: 4000\n",
      "Examples in test set: 1000\n",
      "Length of each example: 40\n"
     ]
    }
   ],
   "source": [
    "args = mnist1d.data.get_dataset_args()\n",
    "data = mnist1d.data.get_dataset(args, path='./mnist1d_data.pkl', download=False, regenerate=False)\n",
    "\n",
    "# The training and test input and outputs are in\n",
    "# data['x'], data['y'], data['x_test'], and data['y_test']\n",
    "print(\"Examples in training set: {}\".format(len(data['y'])))\n",
    "print(\"Examples in test set: {}\".format(len(data['y_test'])))\n",
    "print(\"Length of each example: {}\".format(data['x'].shape[-1]))"
   ]
  },
  {
   "cell_type": "code",
   "execution_count": 16,
   "metadata": {
    "id": "8bKADvLHbiV5"
   },
   "outputs": [
    {
     "name": "stdout",
     "output_type": "stream",
     "text": [
      "Train data: 4000 examples (columns), each of which has 40 dimensions (rows)\n",
      "Validation data: 1000 examples (columns), each of which has 40 dimensions (rows)\n"
     ]
    }
   ],
   "source": [
    "# Load in the data\n",
    "train_data_x = data['x'].transpose()\n",
    "train_data_y = data['y']\n",
    "val_data_x = data['x_test'].transpose()\n",
    "val_data_y = data['y_test']\n",
    "# Print out sizes\n",
    "print(\"Train data: %d examples (columns), each of which has %d dimensions (rows)\"%((train_data_x.shape[1],train_data_x.shape[0])))\n",
    "print(\"Validation data: %d examples (columns), each of which has %d dimensions (rows)\"%((val_data_x.shape[1],val_data_x.shape[0])))"
   ]
  },
  {
   "cell_type": "markdown",
   "metadata": {
    "id": "_sFvRDGrl4qe"
   },
   "source": [
    "Define the network"
   ]
  },
  {
   "cell_type": "code",
   "execution_count": 18,
   "metadata": {
    "id": "FslroPJJffrh"
   },
   "outputs": [],
   "source": [
    "# There are 40 input dimensions and 10 output dimensions for this data\n",
    "# The inputs correspond to the 40 offsets in the MNIST1D template.\n",
    "D_i = 40\n",
    "# The outputs correspond to the 10 digits\n",
    "D_o = 10\n",
    "\n",
    "\n",
    "# TODO Create a model with the following layers\n",
    "# 1. Convolutional layer, (input=length 40 and 1 channel, kernel size 3, stride 2, padding=\"valid\", 15 output channels )\n",
    "# 2. ReLU\n",
    "# 3. Convolutional layer, (input=length 19 and 15 channels, kernel size 3, stride 2, padding=\"valid\", 15 output channels )\n",
    "# 4. ReLU\n",
    "# 5. Convolutional layer, (input=length 9 and 15 channels, kernel size 3, stride 2, padding=\"valid\", 15 output channels)\n",
    "# 6. ReLU\n",
    "# 7. Flatten (converts 4x15) to length 60\n",
    "# 8. Linear layer (input size = 60, output size = 10)\n",
    "# References:\n",
    "# https://pytorch.org/docs/1.13/generated/torch.nn.Conv1d.html?highlight=conv1d#torch.nn.Conv1d\n",
    "# https://pytorch.org/docs/stable/generated/torch.nn.Flatten.html\n",
    "# https://pytorch.org/docs/1.13/generated/torch.nn.Linear.html?highlight=linear#torch.nn.Linear\n",
    "\n",
    "# NOTE THAT THE CONVOLUTIONAL LAYERS NEED TO TAKE THE NUMBER OF INPUT CHANNELS AS A PARAMETER\n",
    "# AND NOT THE INPUT SIZE.\n",
    "\n",
    "# Replace the following function:\n",
    "model = nn.Sequential(\n",
    "nn.Flatten(),\n",
    "nn.Linear(40, 100),\n",
    "nn.ReLU(),\n",
    "nn.Linear(100, 100),\n",
    "nn.ReLU(),\n",
    "nn.Linear(100, 10))\n",
    "\n",
    "model = nn.Sequential(\n",
    "nn.Conv1d(in_channels=1, out_channels=15, kernel_size=3, stride=2, padding=0,),\n",
    "nn.ReLU(),\n",
    "nn.Conv1d(in_channels=15, out_channels=15, kernel_size=3, stride=2, padding=0,),\n",
    "nn.ReLU(),\n",
    "nn.Conv1d(in_channels=15, out_channels=15, kernel_size=3, stride=2, padding=0,),\n",
    "nn.ReLU(),\n",
    "nn.Flatten(),\n",
    "nn.Linear(in_features=60, out_features=10)\n",
    ")\n"
   ]
  },
  {
   "cell_type": "code",
   "execution_count": 19,
   "metadata": {
    "id": "YgLaex1pfhqz"
   },
   "outputs": [],
   "source": [
    "# He initialization of weights\n",
    "def weights_init(layer_in):\n",
    "  if isinstance(layer_in, nn.Linear):\n",
    "    nn.init.kaiming_uniform_(layer_in.weight)\n",
    "    layer_in.bias.data.fill_(0.0)"
   ]
  },
  {
   "cell_type": "code",
   "execution_count": 20,
   "metadata": {
    "id": "NYw8I_3mmX5c"
   },
   "outputs": [
    {
     "name": "stdout",
     "output_type": "stream",
     "text": [
      "Epoch     0, train loss 2.022857, train error 78.03,  val loss 2.019259, percent error 77.50\n",
      "Epoch     1, train loss 1.535401, train error 62.70,  val loss 1.545010, percent error 63.90\n",
      "Epoch     2, train loss 1.379575, train error 54.62,  val loss 1.421245, percent error 57.80\n",
      "Epoch     3, train loss 1.266905, train error 51.15,  val loss 1.281918, percent error 54.40\n",
      "Epoch     4, train loss 1.253185, train error 51.78,  val loss 1.286635, percent error 54.90\n",
      "Epoch     5, train loss 1.133198, train error 46.58,  val loss 1.161586, percent error 48.20\n",
      "Epoch     6, train loss 1.110260, train error 44.60,  val loss 1.127005, percent error 47.20\n",
      "Epoch     7, train loss 0.937176, train error 36.85,  val loss 0.959646, percent error 39.40\n",
      "Epoch     8, train loss 0.792891, train error 31.18,  val loss 0.823299, percent error 32.70\n",
      "Epoch     9, train loss 0.682835, train error 26.68,  val loss 0.729367, percent error 27.50\n",
      "Epoch    10, train loss 0.611912, train error 23.40,  val loss 0.672744, percent error 24.80\n",
      "Epoch    11, train loss 0.540432, train error 19.60,  val loss 0.620138, percent error 21.00\n",
      "Epoch    12, train loss 0.514163, train error 20.00,  val loss 0.623964, percent error 24.10\n",
      "Epoch    13, train loss 0.425107, train error 15.60,  val loss 0.509961, percent error 18.60\n",
      "Epoch    14, train loss 0.363310, train error 13.07,  val loss 0.468588, percent error 17.00\n",
      "Epoch    15, train loss 0.345764, train error 12.22,  val loss 0.448356, percent error 16.30\n",
      "Epoch    16, train loss 0.302176, train error 10.62,  val loss 0.403971, percent error 13.50\n",
      "Epoch    17, train loss 0.316517, train error 11.82,  val loss 0.452705, percent error 16.10\n",
      "Epoch    18, train loss 0.282991, train error 10.38,  val loss 0.402881, percent error 13.30\n",
      "Epoch    19, train loss 0.271787, train error 9.70,  val loss 0.408481, percent error 13.30\n",
      "Epoch    20, train loss 0.213758, train error 7.32,  val loss 0.352309, percent error 11.00\n",
      "Epoch    21, train loss 0.220792, train error 7.95,  val loss 0.385751, percent error 12.50\n",
      "Epoch    22, train loss 0.203694, train error 7.07,  val loss 0.340976, percent error 10.40\n",
      "Epoch    23, train loss 0.185799, train error 6.40,  val loss 0.336971, percent error 10.80\n",
      "Epoch    24, train loss 0.199002, train error 7.15,  val loss 0.352520, percent error 11.60\n",
      "Epoch    25, train loss 0.197136, train error 6.90,  val loss 0.356915, percent error 11.70\n",
      "Epoch    26, train loss 0.181602, train error 6.75,  val loss 0.368268, percent error 12.80\n",
      "Epoch    27, train loss 0.171341, train error 6.20,  val loss 0.341370, percent error 10.70\n",
      "Epoch    28, train loss 0.164451, train error 5.65,  val loss 0.349036, percent error 10.90\n",
      "Epoch    29, train loss 0.164415, train error 5.55,  val loss 0.355708, percent error 11.40\n",
      "Epoch    30, train loss 0.145852, train error 4.65,  val loss 0.345289, percent error 10.80\n",
      "Epoch    31, train loss 0.137338, train error 4.47,  val loss 0.333385, percent error 8.90\n",
      "Epoch    32, train loss 0.146053, train error 5.22,  val loss 0.340616, percent error 10.20\n",
      "Epoch    33, train loss 0.138430, train error 4.80,  val loss 0.340853, percent error 10.30\n",
      "Epoch    34, train loss 0.130191, train error 4.35,  val loss 0.348764, percent error 10.50\n",
      "Epoch    35, train loss 0.124099, train error 4.15,  val loss 0.333190, percent error 10.30\n",
      "Epoch    36, train loss 0.122891, train error 4.12,  val loss 0.331766, percent error 9.90\n",
      "Epoch    37, train loss 0.135144, train error 4.70,  val loss 0.372021, percent error 11.30\n",
      "Epoch    38, train loss 0.110544, train error 3.68,  val loss 0.330130, percent error 9.70\n",
      "Epoch    39, train loss 0.108058, train error 3.65,  val loss 0.352357, percent error 9.40\n",
      "Epoch    40, train loss 0.099926, train error 2.88,  val loss 0.328668, percent error 9.20\n",
      "Epoch    41, train loss 0.088906, train error 2.78,  val loss 0.329769, percent error 9.50\n",
      "Epoch    42, train loss 0.095049, train error 3.22,  val loss 0.352095, percent error 9.70\n",
      "Epoch    43, train loss 0.091582, train error 2.93,  val loss 0.337651, percent error 9.70\n",
      "Epoch    44, train loss 0.088228, train error 2.93,  val loss 0.335833, percent error 9.70\n",
      "Epoch    45, train loss 0.089500, train error 2.85,  val loss 0.339170, percent error 9.80\n",
      "Epoch    46, train loss 0.082974, train error 2.55,  val loss 0.341995, percent error 9.90\n",
      "Epoch    47, train loss 0.087711, train error 2.47,  val loss 0.347719, percent error 10.30\n",
      "Epoch    48, train loss 0.079768, train error 2.60,  val loss 0.343496, percent error 10.00\n",
      "Epoch    49, train loss 0.076920, train error 2.32,  val loss 0.347879, percent error 10.00\n",
      "Epoch    50, train loss 0.075024, train error 2.07,  val loss 0.356014, percent error 9.60\n",
      "Epoch    51, train loss 0.077118, train error 2.15,  val loss 0.355767, percent error 10.20\n",
      "Epoch    52, train loss 0.073415, train error 2.22,  val loss 0.347874, percent error 9.90\n",
      "Epoch    53, train loss 0.070690, train error 1.88,  val loss 0.361463, percent error 10.10\n",
      "Epoch    54, train loss 0.067949, train error 1.97,  val loss 0.358076, percent error 9.80\n",
      "Epoch    55, train loss 0.065225, train error 1.70,  val loss 0.352848, percent error 9.50\n",
      "Epoch    56, train loss 0.071436, train error 2.03,  val loss 0.355801, percent error 9.50\n",
      "Epoch    57, train loss 0.066545, train error 1.80,  val loss 0.367564, percent error 9.80\n",
      "Epoch    58, train loss 0.064775, train error 1.78,  val loss 0.351907, percent error 9.50\n",
      "Epoch    59, train loss 0.064886, train error 1.88,  val loss 0.358074, percent error 9.10\n",
      "Epoch    60, train loss 0.059351, train error 1.45,  val loss 0.368870, percent error 9.60\n",
      "Epoch    61, train loss 0.059712, train error 1.65,  val loss 0.373400, percent error 9.70\n",
      "Epoch    62, train loss 0.056616, train error 1.40,  val loss 0.367650, percent error 9.60\n",
      "Epoch    63, train loss 0.056489, train error 1.22,  val loss 0.366521, percent error 9.70\n",
      "Epoch    64, train loss 0.055606, train error 1.38,  val loss 0.372674, percent error 10.00\n",
      "Epoch    65, train loss 0.055568, train error 1.50,  val loss 0.375888, percent error 9.90\n",
      "Epoch    66, train loss 0.054211, train error 1.35,  val loss 0.371137, percent error 9.60\n",
      "Epoch    67, train loss 0.056009, train error 1.55,  val loss 0.382754, percent error 9.80\n",
      "Epoch    68, train loss 0.052998, train error 1.07,  val loss 0.373651, percent error 9.80\n",
      "Epoch    69, train loss 0.056365, train error 1.50,  val loss 0.387923, percent error 10.00\n",
      "Epoch    70, train loss 0.054084, train error 1.47,  val loss 0.378062, percent error 9.80\n",
      "Epoch    71, train loss 0.051692, train error 1.15,  val loss 0.382297, percent error 9.80\n",
      "Epoch    72, train loss 0.053298, train error 1.47,  val loss 0.388870, percent error 10.00\n",
      "Epoch    73, train loss 0.050545, train error 1.10,  val loss 0.377156, percent error 10.00\n",
      "Epoch    74, train loss 0.050396, train error 1.07,  val loss 0.376844, percent error 10.00\n",
      "Epoch    75, train loss 0.049671, train error 1.20,  val loss 0.381081, percent error 9.90\n",
      "Epoch    76, train loss 0.049160, train error 1.00,  val loss 0.383772, percent error 9.70\n",
      "Epoch    77, train loss 0.048264, train error 1.03,  val loss 0.382001, percent error 9.80\n",
      "Epoch    78, train loss 0.048604, train error 1.15,  val loss 0.387075, percent error 9.90\n",
      "Epoch    79, train loss 0.050455, train error 1.30,  val loss 0.395802, percent error 10.10\n",
      "Epoch    80, train loss 0.047203, train error 1.03,  val loss 0.387937, percent error 10.10\n",
      "Epoch    81, train loss 0.047208, train error 1.12,  val loss 0.391330, percent error 10.10\n",
      "Epoch    82, train loss 0.046461, train error 0.95,  val loss 0.387171, percent error 9.90\n",
      "Epoch    83, train loss 0.046884, train error 0.97,  val loss 0.390830, percent error 10.00\n",
      "Epoch    84, train loss 0.045950, train error 1.05,  val loss 0.389773, percent error 10.00\n",
      "Epoch    85, train loss 0.045908, train error 0.95,  val loss 0.391270, percent error 9.90\n",
      "Epoch    86, train loss 0.045652, train error 0.97,  val loss 0.390302, percent error 9.80\n",
      "Epoch    87, train loss 0.045203, train error 0.95,  val loss 0.390479, percent error 10.00\n",
      "Epoch    88, train loss 0.044978, train error 0.93,  val loss 0.390141, percent error 10.10\n",
      "Epoch    89, train loss 0.044911, train error 0.90,  val loss 0.393181, percent error 10.10\n",
      "Epoch    90, train loss 0.047168, train error 1.15,  val loss 0.401220, percent error 10.10\n",
      "Epoch    91, train loss 0.044304, train error 0.82,  val loss 0.392763, percent error 10.00\n",
      "Epoch    92, train loss 0.044226, train error 0.75,  val loss 0.394040, percent error 10.00\n",
      "Epoch    93, train loss 0.044337, train error 0.95,  val loss 0.396065, percent error 9.90\n",
      "Epoch    94, train loss 0.044458, train error 0.82,  val loss 0.394824, percent error 9.80\n",
      "Epoch    95, train loss 0.043643, train error 0.75,  val loss 0.397162, percent error 10.00\n",
      "Epoch    96, train loss 0.043543, train error 0.82,  val loss 0.397048, percent error 9.90\n",
      "Epoch    97, train loss 0.043197, train error 0.80,  val loss 0.395945, percent error 9.90\n",
      "Epoch    98, train loss 0.043095, train error 0.85,  val loss 0.396010, percent error 9.90\n",
      "Epoch    99, train loss 0.042727, train error 0.75,  val loss 0.396280, percent error 9.60\n",
      "Parameter containing:\n",
      "tensor([[[ 1.0282, -1.8648,  0.7733]],\n",
      "\n",
      "        [[-1.0964,  0.2541,  1.4271]],\n",
      "\n",
      "        [[ 1.1057,  1.3182, -2.2390]],\n",
      "\n",
      "        [[-0.6797,  1.6839,  0.2262]],\n",
      "\n",
      "        [[ 0.2622, -1.7362,  1.6537]],\n",
      "\n",
      "        [[-1.0251, -0.3305,  0.6609]],\n",
      "\n",
      "        [[-0.8031,  2.1381, -2.3303]],\n",
      "\n",
      "        [[-1.9471,  2.7266, -0.7029]],\n",
      "\n",
      "        [[ 0.4850, -2.6183,  0.6645]],\n",
      "\n",
      "        [[ 0.5388,  1.1612, -0.1452]],\n",
      "\n",
      "        [[ 1.1270, -1.5898,  0.3704]],\n",
      "\n",
      "        [[-1.7102,  1.2078,  0.2666]],\n",
      "\n",
      "        [[ 0.1028, -2.0302,  2.1014]],\n",
      "\n",
      "        [[ 1.9799, -2.3210, -0.8044]],\n",
      "\n",
      "        [[-0.5965,  0.5652,  2.0285]]], requires_grad=True)\n"
     ]
    },
    {
     "data": {
      "image/png": "[encoded data removed]",
      "text/plain": [
       "<Figure size 640x480 with 1 Axes>"
      ]
     },
     "metadata": {},
     "output_type": "display_data"
    }
   ],
   "source": [
    "# choose cross entropy loss function (equation 5.24 in the loss notes)\n",
    "loss_function = nn.CrossEntropyLoss()\n",
    "# construct SGD optimizer and initialize learning rate and momentum\n",
    "optimizer = torch.optim.SGD(model.parameters(), lr = 0.05, momentum=0.9)\n",
    "# object that decreases learning rate by half every 20 epochs\n",
    "scheduler = StepLR(optimizer, step_size=20, gamma=0.5)\n",
    "# create 100 dummy data points and store in data loader class\n",
    "x_train = torch.tensor(train_data_x.transpose().astype('float32'))\n",
    "y_train = torch.tensor(train_data_y.astype('long')).long()\n",
    "x_val= torch.tensor(val_data_x.transpose().astype('float32'))\n",
    "y_val = torch.tensor(val_data_y.astype('long')).long()\n",
    "\n",
    "# load the data into a class that creates the batches\n",
    "data_loader = DataLoader(TensorDataset(x_train,y_train), batch_size=100, shuffle=True, worker_init_fn=np.random.seed(1))\n",
    "\n",
    "# Initialize model weights\n",
    "model.apply(weights_init)\n",
    "\n",
    "# loop over the dataset n_epoch times\n",
    "n_epoch = 100\n",
    "# store the loss and the % correct at each epoch\n",
    "losses_train = np.zeros((n_epoch))\n",
    "errors_train = np.zeros((n_epoch))\n",
    "losses_val = np.zeros((n_epoch))\n",
    "errors_val = np.zeros((n_epoch))\n",
    "\n",
    "for epoch in range(n_epoch):\n",
    "  # loop over batches\n",
    "  for i, data in enumerate(data_loader):\n",
    "    # retrieve inputs and labels for this batch\n",
    "    x_batch, y_batch = data\n",
    "    # zero the parameter gradients\n",
    "    optimizer.zero_grad()\n",
    "    # forward pass -- calculate model output\n",
    "    pred = model(x_batch[:,None,:])\n",
    "    # compute the loss\n",
    "    loss = loss_function(pred, y_batch)\n",
    "    # backward pass\n",
    "    loss.backward()\n",
    "    # SGD update\n",
    "    optimizer.step()\n",
    "\n",
    "  # Run whole dataset to get statistics -- normally wouldn't do this\n",
    "  pred_train = model(x_train[:,None,:])\n",
    "  pred_val = model(x_val[:,None,:])\n",
    "  _, predicted_train_class = torch.max(pred_train.data, 1)\n",
    "  _, predicted_val_class = torch.max(pred_val.data, 1)\n",
    "  errors_train[epoch] = 100 - 100 * (predicted_train_class == y_train).float().sum() / len(y_train)\n",
    "  errors_val[epoch]= 100 - 100 * (predicted_val_class == y_val).float().sum() / len(y_val)\n",
    "  losses_train[epoch] = loss_function(pred_train, y_train).item()\n",
    "  losses_val[epoch]= loss_function(pred_val, y_val).item()\n",
    "  print(f'Epoch {epoch:5d}, train loss {losses_train[epoch]:.6f}, train error {errors_train[epoch]:3.2f},  val loss {losses_val[epoch]:.6f}, percent error {errors_val[epoch]:3.2f}')\n",
    "\n",
    "  # tell scheduler to consider updating learning rate\n",
    "  scheduler.step()\n",
    "    \n",
    "print(model[0].weight)\n",
    "\n",
    "# Plot the results\n",
    "fig, ax = plt.subplots()\n",
    "ax.plot(errors_train,'r-',label='train')\n",
    "ax.plot(errors_val,'b-',label='validation')\n",
    "ax.set_ylim(0,100); ax.set_xlim(0,n_epoch)\n",
    "ax.set_xlabel('Epoch'); ax.set_ylabel('Error')\n",
    "ax.set_title('Part I: Validation Result %3.2f'%(errors_val[-1]))\n",
    "ax.legend()\n",
    "plt.show()"
   ]
  }
 ],
 "metadata": {
  "colab": {
   "authorship_tag": "ABX9TyNb46PJB/CC1pcHGfjpUUZg",
   "include_colab_link": true,
   "provenance": []
  },
  "kernelspec": {
   "display_name": "Python [conda env:pytorch]",
   "language": "python",
   "name": "conda-env-pytorch-py"
  },
  "language_info": {
   "codemirror_mode": {
    "name": "ipython",
    "version": 3
   },
   "file_extension": ".py",
   "mimetype": "text/x-python",
   "name": "python",
   "nbconvert_exporter": "python",
   "pygments_lexer": "ipython3",
   "version": "3.12.7"
  }
 },
 "nbformat": 4,
 "nbformat_minor": 4
}
