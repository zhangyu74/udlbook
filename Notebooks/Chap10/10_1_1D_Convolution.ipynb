{
 "cells": [
  {
   "cell_type": "markdown",
   "metadata": {
    "colab_type": "text",
    "id": "view-in-github"
   },
   "source": [
    "<a href=\"https://colab.research.google.com/github/udlbook/udlbook/blob/main/Notebooks/Chap10/10_1_1D_Convolution.ipynb\" target=\"_parent\"><img src=\"https://colab.research.google.com/assets/colab-badge.svg\" alt=\"Open In Colab\"/></a>"
   ]
  },
  {
   "cell_type": "markdown",
   "metadata": {
    "id": "el8l05WQEO46"
   },
   "source": [
    "# **Notebook 10.1: 1D Convolution**\n",
    "\n",
    "This notebook investigates 1D convolutional layers.\n",
    "\n",
    "Work through the cells below, running each cell in turn. In various places you will see the words \"TO DO\". Follow the instructions at these places and make predictions about what is going to happen or write code to complete the functions.\n",
    "\n",
    "Contact me at udlbookmail@gmail.com if you find any mistakes or have any suggestions.\n"
   ]
  },
  {
   "cell_type": "markdown",
   "metadata": {
    "id": "ggQrHkFZcUiV"
   },
   "source": [
    "NOTE!!\n",
    "\n",
    "If you have the first edition of the printed book, it mistakenly refers to a convolutional filter with no spaces between the elements (i.e. a normal filter without dilation) as having dilation zero.  Actually, the convention is (weirdly) that this has dilation one.  And when there is one space between the elements, this is dilation two.   This notebook reflects the correct convention and so will be out of sync with the printed book.  If this is confusing, check the [errata](https://github.com/udlbook/udlbook/blob/main/UDL_Errata.pdf) document."
   ]
  },
  {
   "cell_type": "code",
   "execution_count": null,
   "metadata": {
    "id": "nw7k5yCtOzoK"
   },
   "outputs": [],
   "source": [
    "import numpy as np\n",
    "import matplotlib.pyplot as plt"
   ]
  },
  {
   "cell_type": "code",
   "execution_count": null,
   "metadata": {
    "id": "lSSHuoEqO3Ly"
   },
   "outputs": [],
   "source": [
    "# Define a signal that we can apply convolution to\n",
    "x = [5.2, 5.3, 5.4, 5.1, 10.1, 10.3, 9.9, 10.3, 3.2, 3.4, 3.3, 3.1]"
   ]
  },
  {
   "cell_type": "code",
   "execution_count": null,
   "metadata": {
    "id": "zVssv_wiREc2"
   },
   "outputs": [],
   "source": [
    "# Draw the signal\n",
    "fig,ax = plt.subplots()\n",
    "ax.plot(x, 'k-')\n",
    "ax.set_xlim(0,11)\n",
    "ax.set_ylim(0, 12)\n",
    "plt.show()"
   ]
  },
  {
   "cell_type": "code",
   "execution_count": null,
   "metadata": {
    "id": "MmfXED12RvNq"
   },
   "outputs": [],
   "source": [
    "# Now let's define a zero-padded convolution operation\n",
    "# with a convolution kernel size of 3, a stride of 1, and a dilation of 1\n",
    "# as in figure 10.2a-c.  Write it yourself, don't call a library routine!\n",
    "# Don't forget that Python arrays are indexed from zero, not from 1 as in the book figures\n",
    "def conv_3_1_1_zp(x_in, omega):\n",
    "    x_out = np.zeros_like(x_in)\n",
    "    # TODO -- write this function\n",
    "    # replace this line\n",
    "    x_out = x_out\n",
    "    \n",
    "    k_size = 3\n",
    "    stride = 1\n",
    "    dilation = 1\n",
    "\n",
    "    n = len(x_in)\n",
    "    x_out = np.zeros(n)\n",
    "    x_padded = np.pad(x_in, pad_width=1, mode='constant', constant_values=0)\n",
    "\n",
    "    for i in range(n):\n",
    "        x_out[i] = np.sum(x_padded[i:i + k_size:dilation] * omega)\n",
    "\n",
    "    return x_out"
   ]
  },
  {
   "cell_type": "markdown",
   "metadata": {
    "id": "Fof_Rs98Zovq"
   },
   "source": [
    "Now let's see what kind of things convolution can do\n",
    "First, it can average nearby values, smoothing the function:"
   ]
  },
  {
   "cell_type": "code",
   "execution_count": null,
   "metadata": {
    "id": "HOcPZR6iWXsa"
   },
   "outputs": [],
   "source": [
    "\n",
    "omega = [0.33,0.33,0.33]\n",
    "h = conv_3_1_1_zp(x, omega)\n",
    "\n",
    "# Check that you have computed this correctly\n",
    "print(f\"Sum of output is {np.sum(h):3.3}, should be 71.1\")\n",
    "\n",
    "# Draw the signal\n",
    "fig,ax = plt.subplots()\n",
    "ax.plot(x, 'k-',label='before')\n",
    "ax.plot(h, 'r-',label='after')\n",
    "ax.set_xlim(0,11)\n",
    "ax.set_ylim(0, 12)\n",
    "ax.legend()\n",
    "plt.show()"
   ]
  },
  {
   "cell_type": "markdown",
   "metadata": {
    "id": "PBkNKUylZr-k"
   },
   "source": [
    "Notice how the red function is a smoothed version of the black one as it has averaged adjacent values.  The first and last outputs are considerably lower than the original curve though.  Make sure that you understand why!<br><br>\n",
    "\n",
    "With different weights, the convolution can be used to find sharp changes in the function:"
   ]
  },
  {
   "cell_type": "code",
   "execution_count": null,
   "metadata": {
    "id": "o8T5WKeuZrgS"
   },
   "outputs": [],
   "source": [
    "\n",
    "omega = [-0.5,0,0.5]\n",
    "h2 = conv_3_1_1_zp(x, omega)\n",
    "\n",
    "# Draw the signal\n",
    "fig,ax = plt.subplots()\n",
    "ax.plot(x, 'k-',label='before')\n",
    "ax.plot(h2, 'r-',label='after')\n",
    "ax.set_xlim(0,11)\n",
    "# ax.set_ylim(0, 12)\n",
    "ax.legend()\n",
    "plt.show()"
   ]
  },
  {
   "cell_type": "markdown",
   "metadata": {
    "id": "ogfCVThJgtPx"
   },
   "source": [
    "Notice that the convolution has a peak where the original function went up and trough where it went down.  It is roughly zero where the function is locally flat.  This convolution approximates a derivative. <br> <br>\n",
    "\n",
    "Now let's define the convolutions from figure 10.3.  "
   ]
  },
  {
   "cell_type": "code",
   "execution_count": null,
   "metadata": {
    "id": "5QYrQmFMiDBj"
   },
   "outputs": [],
   "source": [
    "# Now let's define a zero-padded convolution operation\n",
    "# with a convolution kernel size of 3, a stride of 2, and a dilation of 1\n",
    "# as in figure 10.3a-b.  Write it yourself, don't call a library routine!\n",
    "def conv_3_2_1_zp(x_in, omega):\n",
    "    x_out = np.zeros(int(np.ceil(len(x_in)/2)))\n",
    "    # TODO -- write this function\n",
    "    # replace this line\n",
    "    x_out = x_out\n",
    "    \n",
    "    k_size = 3\n",
    "    stride = 2\n",
    "    dilation = 1\n",
    "\n",
    "    n = len(x_in)\n",
    "\n",
    "    output_size = int(np.ceil(n / stride))\n",
    "    x_out = np.zeros(output_size)\n",
    "    x_padded = np.pad(x_in, pad_width=1, mode='constant', constant_values=0)\n",
    "\n",
    "    for i in range(output_size):\n",
    "        start_idx = i * stride\n",
    "        x_out[i] = np.sum(x_padded[start_idx:start_idx + k_size:dilation] * omega)\n",
    "\n",
    "    return x_out"
   ]
  },
  {
   "cell_type": "code",
   "execution_count": null,
   "metadata": {
    "id": "CD96lnDHX72A"
   },
   "outputs": [],
   "source": [
    "omega = [0.33,0.33,0.33]\n",
    "h3 = conv_3_2_1_zp(x, omega)\n",
    "\n",
    "# If you have done this right, the output length should be six and it should\n",
    "# contain every other value from the original convolution with stride 1\n",
    "print(h)\n",
    "print(h3)"
   ]
  },
  {
   "cell_type": "code",
   "execution_count": null,
   "metadata": {
    "id": "lw46-gNUjDw7"
   },
   "outputs": [],
   "source": [
    "# Now let's define a zero-padded convolution operation\n",
    "# with a convolution kernel size of 5, a stride of 1, and a dilation of 1\n",
    "# as in figure 10.3c.  Write it yourself, don't call a library routine!\n",
    "def conv_5_1_1_zp(x_in, omega):\n",
    "    x_out = np.zeros_like(x_in)\n",
    "    # TODO -- write this function\n",
    "    # replace this line\n",
    "    x_out = x_out\n",
    "    \n",
    "    k_size = 5\n",
    "    stride = 1\n",
    "    dilation = 1\n",
    "\n",
    "    n = len(x_in)\n",
    "    x_out = np.zeros(n)\n",
    "    x_padded = np.pad(x_in, pad_width=2, mode='constant', constant_values=0)\n",
    "\n",
    "    for i in range(n):\n",
    "        x_out[i] = np.sum(x_padded[i:i + k_size:dilation] * omega)\n",
    "\n",
    "    return x_out"
   ]
  },
  {
   "cell_type": "code",
   "execution_count": null,
   "metadata": {
    "id": "JkKBL-nFk4bf"
   },
   "outputs": [],
   "source": [
    "\n",
    "omega2 = [0.2, 0.2, 0.2, 0.2, 0.2]\n",
    "h4 = conv_5_1_1_zp(x, omega2)\n",
    "\n",
    "# Check that you have computed this correctly\n",
    "print(f\"Sum of output is {np.sum(h4):3.3}, should be 69.6\")\n",
    "\n",
    "# Draw the signal\n",
    "fig,ax = plt.subplots()\n",
    "ax.plot(x, 'k-',label='before')\n",
    "ax.plot(h4, 'r-',label='after')\n",
    "ax.set_xlim(0,11)\n",
    "ax.set_ylim(0, 12)\n",
    "ax.legend()\n",
    "plt.show()"
   ]
  },
  {
   "cell_type": "code",
   "execution_count": null,
   "metadata": {
    "id": "_aBcW46AljI0"
   },
   "outputs": [],
   "source": [
    "# Finally let's define a zero-padded convolution operation\n",
    "# with a convolution kernel size of 3, a stride of 1, and a dilation of 2\n",
    "# as in figure 10.3d.  Write it yourself, don't call a library routine!\n",
    "# Don't forget that Python arrays are indexed from zero, not from 1 as in the book figures\n",
    "def conv_3_1_2_zp(x_in, omega):\n",
    "    x_out = np.zeros_like(x_in)\n",
    "    # TODO -- write this function\n",
    "    # replace this line\n",
    "    x_out = x_out\n",
    "\n",
    "    k_size = 3\n",
    "    stride = 1\n",
    "    dilation = 2\n",
    "\n",
    "    n = len(x_in)\n",
    "    x_out = np.zeros(n)\n",
    "    padding = (k_size - 1) * dilation // 2\n",
    "    x_padded = np.pad(x_in, pad_width=padding, mode='constant', constant_values=0)\n",
    "\n",
    "    for i in range(n):\n",
    "        x_out[i] = np.sum(x_padded[i:i + (k_size - 1) * dilation + 1:dilation] * omega)\n",
    "\n",
    "    return x_out"
   ]
  },
  {
   "cell_type": "code",
   "execution_count": null,
   "metadata": {
    "id": "En-ByCqWlvMI"
   },
   "outputs": [],
   "source": [
    "omega = [0.33,0.33,0.33]\n",
    "h5 = conv_3_1_2_zp(x, omega)\n",
    "\n",
    "# Check that you have computed this correctly\n",
    "print(f\"Sum of output is {np.sum(h5):3.3}, should be 68.3\")\n",
    "\n",
    "# Draw the signal\n",
    "fig,ax = plt.subplots()\n",
    "ax.plot(x, 'k-',label='before')\n",
    "ax.plot(h5, 'r-',label='after')\n",
    "ax.set_xlim(0,11)\n",
    "ax.set_ylim(0, 12)\n",
    "ax.legend()\n",
    "plt.show()"
   ]
  },
  {
   "cell_type": "markdown",
   "metadata": {
    "id": "loBwu125lXx1"
   },
   "source": [
    "Finally, let's investigate representing convolutions as full matrices, and show we get the same answer."
   ]
  },
  {
   "cell_type": "code",
   "execution_count": null,
   "metadata": {
    "id": "U2RFWfGgs72j"
   },
   "outputs": [],
   "source": [
    "# Compute matrix in figure 10.4 d\n",
    "def get_conv_mat_3_1_1_zp(n_out, omega):\n",
    "  omega_mat = np.zeros((n_out,n_out))\n",
    "  # TODO Fill in this matrix\n",
    "  # Replace this line:\n",
    "  omega_mat = omega_mat\n",
    "\n",
    "  k_size = len(omega)\n",
    "\n",
    "  for i in range(n_out):\n",
    "      for j in range(k_size):\n",
    "          if 0 <= i + j -1 < n_out:\n",
    "              omega_mat[i, i + j - 1] = omega[j]\n",
    "  print(omega_mat)\n",
    "  return omega_mat"
   ]
  },
  {
   "cell_type": "code",
   "execution_count": null,
   "metadata": {
    "id": "20IYxku8lMty"
   },
   "outputs": [],
   "source": [
    "# Run original convolution\n",
    "omega = np.array([-1.0,0.5,-0.2])\n",
    "h6 = conv_3_1_1_zp(x, omega)\n",
    "print(h6)\n",
    "\n",
    "# If you have done this right, you should get the same answer\n",
    "omega_mat = get_conv_mat_3_1_1_zp(len(x), omega)\n",
    "h7 = np.matmul(omega_mat, x)\n",
    "print(h7)\n"
   ]
  },
  {
   "cell_type": "markdown",
   "metadata": {
    "id": "rYoQVhBfu8R4"
   },
   "source": [
    "TODO:  What do you expect to happen if we apply the last convolution twice?  Can this be represented as a single convolution?  If so, then what is it?"
   ]
  }
 ],
 "metadata": {
  "colab": {
   "authorship_tag": "ABX9TyML7rfAGE4gvmNUEiK5x3PS",
   "include_colab_link": true,
   "provenance": []
  },
  "kernelspec": {
   "display_name": "Python 3",
   "name": "python3"
  },
  "language_info": {
   "name": "python"
  }
 },
 "nbformat": 4,
 "nbformat_minor": 0
}
